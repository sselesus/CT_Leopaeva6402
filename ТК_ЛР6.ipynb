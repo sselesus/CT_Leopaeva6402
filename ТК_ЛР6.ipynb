{
 "cells": [
  {
   "metadata": {},
   "cell_type": "markdown",
   "source": "Выполнила Леопаева Л.А., 6402-010302D",
   "id": "3f503f452a334f28"
  },
  {
   "metadata": {},
   "cell_type": "markdown",
   "source": "Лабораторная работа ",
   "id": "175fb48de9fbff37"
  },
  {
   "cell_type": "code",
   "id": "initial_id",
   "metadata": {
    "collapsed": true,
    "ExecuteTime": {
     "end_time": "2024-12-01T19:15:35.099040Z",
     "start_time": "2024-12-01T19:15:34.980369Z"
    }
   },
   "source": [
    "import numpy as np\n",
    "import random"
   ],
   "outputs": [],
   "execution_count": 1
  },
  {
   "metadata": {},
   "cell_type": "markdown",
   "source": "6.1. Кодирование и декодирование для циклического кода (7,4).",
   "id": "7f7bd9ef8025a0da"
  },
  {
   "metadata": {
    "ExecuteTime": {
     "end_time": "2024-12-01T19:15:35.109237Z",
     "start_time": "2024-12-01T19:15:35.105134Z"
    }
   },
   "cell_type": "code",
   "source": [
    "def encode_message(u, g):\n",
    "    return np.polymul(u, g) % 2"
   ],
   "id": "cb774f1c1e689c95",
   "outputs": [],
   "execution_count": 2
  },
  {
   "metadata": {
    "ExecuteTime": {
     "end_time": "2024-12-01T19:15:35.184215Z",
     "start_time": "2024-12-01T19:15:35.180211Z"
    }
   },
   "cell_type": "code",
   "source": [
    "def introduce_mistakes(word, error_count):\n",
    "    n = len(word)\n",
    "    error_positions = random.sample(range(n), error_count)\n",
    "    print(f\"Позиции ошибок: {error_positions}\")\n",
    "    for pos in error_positions:\n",
    "        word[pos] ^= 1  # Инвертируем бит\n",
    "    return word"
   ],
   "id": "e8df70ff1892d69c",
   "outputs": [],
   "execution_count": 3
  },
  {
   "metadata": {
    "ExecuteTime": {
     "end_time": "2024-12-01T19:15:35.198043Z",
     "start_time": "2024-12-01T19:15:35.193062Z"
    }
   },
   "cell_type": "code",
   "source": [
    "def decode_message(w, g, t):\n",
    "    n = len(w)\n",
    "    s = np.polydiv(w, g)[1] % 2  # Остаток (синдром)\n",
    "    for i in range(n):\n",
    "        e_x = np.zeros(n, dtype=int)\n",
    "        e_x[n - i - 1] = 1\n",
    "        mult = np.polymul(s, e_x) % 2\n",
    "\n",
    "        s_i = np.polydiv(mult, g)[1] % 2\n",
    "        if sum(s_i) <= t:\n",
    "            e_i = np.zeros(n, dtype=int)\n",
    "            e_i[i - 1] = 1\n",
    "            e_x = np.polymul(e_i, s_i) % 2\n",
    "            corrected = np.polyadd(e_x, w) % 2\n",
    "            result = np.array(np.polydiv(corrected, g)[0] % 2).astype(int)\n",
    "            return result\n",
    "    return None"
   ],
   "id": "5fad6c44c675e1fe",
   "outputs": [],
   "execution_count": 4
  },
  {
   "metadata": {
    "ExecuteTime": {
     "end_time": "2024-12-01T19:18:56.768198Z",
     "start_time": "2024-12-01T19:18:56.762331Z"
    }
   },
   "cell_type": "code",
   "source": [
    "def investigate_code_7_4():\n",
    "    print(\"\\nИсследование кода (7,4)\\n\")\n",
    "    g = np.array([1, 1, 0, 1])  # Порождающий многочлен\n",
    "    t = 1  # Однократные ошибки\n",
    "\n",
    "    for error_count in range(1, 4):  # 1, 2 и 3 ошибки\n",
    "        word = np.array([1, 0, 1, 0])\n",
    "        print(f\"Исходное сообщение: {word}\")\n",
    "        codeword = encode_message(word, g)\n",
    "        print(f\"Закодированное сообщение: {codeword}\")\n",
    "        codeword_with_mistakes = introduce_mistakes(codeword.copy(), error_count)\n",
    "        print(f\"Сообщение с ошибками: {codeword_with_mistakes}\")\n",
    "        decoded = decode_message(codeword_with_mistakes, g, t)\n",
    "        print(f\"Декодированное сообщение: {decoded}\")\n",
    "        if np.array_equal(word, decoded):\n",
    "            print(\"Исходное сообщение и декодированное совпадают.\\n\")\n",
    "        else:\n",
    "            print(\"Исходное сообщение и декодированное не совпадают.\\n\")"
   ],
   "id": "4173f3797e8fd167",
   "outputs": [],
   "execution_count": 12
  },
  {
   "metadata": {
    "ExecuteTime": {
     "end_time": "2024-12-01T19:18:58.474417Z",
     "start_time": "2024-12-01T19:18:58.464109Z"
    }
   },
   "cell_type": "code",
   "source": "investigate_code_7_4()",
   "id": "1f9a327e223ee5cc",
   "outputs": [
    {
     "name": "stdout",
     "output_type": "stream",
     "text": [
      "\n",
      "Исследование кода (7,4)\n",
      "\n",
      "Исходное сообщение: [1 0 1 0]\n",
      "Закодированное сообщение: [1 1 1 0 0 1 0]\n",
      "Позиции ошибок: [2]\n",
      "Сообщение с ошибками: [1 1 0 0 0 1 0]\n",
      "Декодированное сообщение: [1 0 1 0]\n",
      "Исходное сообщение и декодированное совпадают.\n",
      "\n",
      "Исходное сообщение: [1 0 1 0]\n",
      "Закодированное сообщение: [1 1 1 0 0 1 0]\n",
      "Позиции ошибок: [6, 4]\n",
      "Сообщение с ошибками: [1 1 1 0 1 1 1]\n",
      "Декодированное сообщение: [1 0 1 1]\n",
      "Исходное сообщение и декодированное не совпадают.\n",
      "\n",
      "Исходное сообщение: [1 0 1 0]\n",
      "Закодированное сообщение: [1 1 1 0 0 1 0]\n",
      "Позиции ошибок: [5, 4, 3]\n",
      "Сообщение с ошибками: [1 1 1 1 1 0 0]\n",
      "Декодированное сообщение: [1 1 0 0]\n",
      "Исходное сообщение и декодированное не совпадают.\n",
      "\n"
     ]
    }
   ],
   "execution_count": 13
  },
  {
   "metadata": {},
   "cell_type": "markdown",
   "source": "6.2. Кодирование и декодирование для циклического кода (15,9).",
   "id": "ef5eca105a01feb1"
  },
  {
   "metadata": {
    "ExecuteTime": {
     "end_time": "2024-12-01T19:16:47.088142Z",
     "start_time": "2024-12-01T19:16:47.084489Z"
    }
   },
   "cell_type": "code",
   "source": [
    "def encode_message_15_9(u, g):\n",
    "    return np.polymul(u, g) % 2"
   ],
   "id": "612d0750ce290517",
   "outputs": [],
   "execution_count": 7
  },
  {
   "metadata": {
    "ExecuteTime": {
     "end_time": "2024-12-01T19:16:48.203844Z",
     "start_time": "2024-12-01T19:16:48.199208Z"
    }
   },
   "cell_type": "code",
   "source": [
    "def introduce_pack_mistakes(word, t):\n",
    "    n = len(word)\n",
    "    start_pos = random.randint(0, n - t)\n",
    "    for i in range(t):\n",
    "        word[(start_pos + i) % n] ^= 1  # Инвертируем биты пакета\n",
    "    print(f\"Пакет ошибок внесён в позиции от {start_pos} до {(start_pos + t - 1) % n}\")\n",
    "    return word"
   ],
   "id": "4e7a55ea8df1e483",
   "outputs": [],
   "execution_count": 8
  },
  {
   "metadata": {
    "ExecuteTime": {
     "end_time": "2024-12-01T19:32:28.769668Z",
     "start_time": "2024-12-01T19:32:28.764932Z"
    }
   },
   "cell_type": "code",
   "source": [
    "def is_this_error(error, t):\n",
    "    error = np.trim_zeros(error, 'f')\n",
    "    error = np.trim_zeros(error, 'b')\n",
    "    return len(error) <= t and len(error) != 0"
   ],
   "id": "a486b3d657713254",
   "outputs": [],
   "execution_count": 16
  },
  {
   "metadata": {
    "ExecuteTime": {
     "end_time": "2024-12-01T19:32:32.787245Z",
     "start_time": "2024-12-01T19:32:32.782211Z"
    }
   },
   "cell_type": "code",
   "source": [
    "def decode_message_15_9(w, g, t):\n",
    "    n = len(w)\n",
    "    s = np.polydiv(w, g)[1] % 2  # Остаток (синдром)\n",
    "    for i in range(n):\n",
    "        e_x = np.zeros(n, dtype=int)\n",
    "        e_x[n - i - 1] = 1\n",
    "        mult = np.polymul(s, e_x) % 2\n",
    "        s_i = np.polydiv(mult, g)[1] % 2\n",
    "        if is_this_error(s_i, t):\n",
    "            e_i = np.zeros(n, dtype=int)\n",
    "            e_i[i - 1] = 1\n",
    "            e_x = np.polymul(e_i, s_i) % 2\n",
    "            corrected = np.polyadd(e_x, w) % 2\n",
    "            result = np.array(np.polydiv(corrected, g)[0] % 2).astype(int)\n",
    "            return result\n",
    "    return None"
   ],
   "id": "f195d04c1f117b08",
   "outputs": [],
   "execution_count": 18
  },
  {
   "metadata": {
    "ExecuteTime": {
     "end_time": "2024-12-01T19:32:35.750128Z",
     "start_time": "2024-12-01T19:32:35.745119Z"
    }
   },
   "cell_type": "code",
   "source": [
    "def investigate_code_15_9():\n",
    "    print(\"\\nИсследование кода (15,9)\\n\")\n",
    "    g = np.array([1, 0, 0, 1, 1, 1, 1])\n",
    "    t = 3  # Пакеты ошибок длиной 3\n",
    "\n",
    "    for packet_length in range(1, 5):\n",
    "        word = np.array([1, 1, 0, 0, 0, 1, 0, 0, 0])\n",
    "        print(f\"Исходное сообщение: {word}\")\n",
    "        codeword = encode_message_15_9(word, g)\n",
    "        print(f\"Закодированное сообщение: {codeword}\")\n",
    "        codeword_with_pack_mistakes = introduce_pack_mistakes(codeword.copy(), packet_length)\n",
    "        print(f\"Сообщение с пакетом ошибок: {codeword_with_pack_mistakes}\")\n",
    "        decoded = decode_message_15_9(codeword_with_pack_mistakes, g, t)\n",
    "        print(f\"Декодированное сообщение: {decoded}\")\n",
    "        if np.array_equal(word, decoded):\n",
    "            print(\"Исходное сообщение и декодированное совпадают.\\n\")\n",
    "        else:\n",
    "            print(\"Исходное сообщение и декодированное не совпадают.\\n\")"
   ],
   "id": "3868cbd66994edf3",
   "outputs": [],
   "execution_count": 19
  },
  {
   "metadata": {
    "ExecuteTime": {
     "end_time": "2024-12-01T19:32:37.572795Z",
     "start_time": "2024-12-01T19:32:37.555988Z"
    }
   },
   "cell_type": "code",
   "source": "investigate_code_15_9()",
   "id": "9d2d3099db9e9469",
   "outputs": [
    {
     "name": "stdout",
     "output_type": "stream",
     "text": [
      "\n",
      "Исследование кода (15,9)\n",
      "\n",
      "Исходное сообщение: [1 1 0 0 0 1 0 0 0]\n",
      "Закодированное сообщение: [1 1 0 1 0 1 0 1 1 1 1 1 0 0 0]\n",
      "Пакет ошибок внесён в позиции от 8 до 8\n",
      "Сообщение с пакетом ошибок: [1 1 0 1 0 1 0 1 0 1 1 1 0 0 0]\n",
      "Декодированное сообщение: [1 1 0 0 0 1 0 0 0]\n",
      "Исходное сообщение и декодированное совпадают.\n",
      "\n",
      "Исходное сообщение: [1 1 0 0 0 1 0 0 0]\n",
      "Закодированное сообщение: [1 1 0 1 0 1 0 1 1 1 1 1 0 0 0]\n",
      "Пакет ошибок внесён в позиции от 0 до 1\n",
      "Сообщение с пакетом ошибок: [0 0 0 1 0 1 0 1 1 1 1 1 0 0 0]\n",
      "Декодированное сообщение: [1 1 0 0 0 1 0 0 0]\n",
      "Исходное сообщение и декодированное совпадают.\n",
      "\n",
      "Исходное сообщение: [1 1 0 0 0 1 0 0 0]\n",
      "Закодированное сообщение: [1 1 0 1 0 1 0 1 1 1 1 1 0 0 0]\n",
      "Пакет ошибок внесён в позиции от 2 до 4\n",
      "Сообщение с пакетом ошибок: [1 1 1 0 1 1 0 1 1 1 1 1 0 0 0]\n",
      "Декодированное сообщение: [1 1 0 0 0 1 0 0 0]\n",
      "Исходное сообщение и декодированное совпадают.\n",
      "\n",
      "Исходное сообщение: [1 1 0 0 0 1 0 0 0]\n",
      "Закодированное сообщение: [1 1 0 1 0 1 0 1 1 1 1 1 0 0 0]\n",
      "Пакет ошибок внесён в позиции от 10 до 13\n",
      "Сообщение с пакетом ошибок: [1 1 0 1 0 1 0 1 1 1 0 0 1 1 0]\n",
      "Декодированное сообщение: [1 1 0 0 0 1 0 1 0]\n",
      "Исходное сообщение и декодированное не совпадают.\n",
      "\n"
     ]
    }
   ],
   "execution_count": 20
  }
 ],
 "metadata": {
  "kernelspec": {
   "display_name": "Python 3",
   "language": "python",
   "name": "python3"
  },
  "language_info": {
   "codemirror_mode": {
    "name": "ipython",
    "version": 2
   },
   "file_extension": ".py",
   "mimetype": "text/x-python",
   "name": "python",
   "nbconvert_exporter": "python",
   "pygments_lexer": "ipython2",
   "version": "2.7.6"
  }
 },
 "nbformat": 4,
 "nbformat_minor": 5
}
