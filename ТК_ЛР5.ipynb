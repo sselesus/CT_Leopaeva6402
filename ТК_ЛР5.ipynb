{
 "cells": [
  {
   "metadata": {},
   "cell_type": "markdown",
   "source": "Выполнила Леопаева Л.А., 6402-010302D",
   "id": "da488e81e32a535a"
  },
  {
   "metadata": {},
   "cell_type": "markdown",
   "source": "Лабораторная работа 5",
   "id": "6fc01c95dbceb8a5"
  },
  {
   "cell_type": "code",
   "id": "initial_id",
   "metadata": {
    "collapsed": true,
    "ExecuteTime": {
     "end_time": "2024-12-01T19:05:36.448967Z",
     "start_time": "2024-12-01T19:05:36.317063Z"
    }
   },
   "source": [
    "import numpy as np\n",
    "from itertools import combinations, product\n",
    "from statistics import mode"
   ],
   "outputs": [],
   "execution_count": 1
  },
  {
   "metadata": {},
   "cell_type": "markdown",
   "source": "5.1 Функция формирования порождающей матрицы кода РидаМаллера в каноническом виде.",
   "id": "135729971e8e1984"
  },
  {
   "metadata": {
    "ExecuteTime": {
     "end_time": "2024-12-01T19:05:36.456878Z",
     "start_time": "2024-12-01T19:05:36.453989Z"
    }
   },
   "cell_type": "code",
   "source": [
    "def generate_binary_vectors(cols):\n",
    "    return [list(c)[::-1] for c in product([0, 1], repeat=cols)]\n"
   ],
   "id": "61a7903a1e50cb6a",
   "outputs": [],
   "execution_count": 2
  },
  {
   "metadata": {
    "ExecuteTime": {
     "end_time": "2024-12-01T19:05:36.534818Z",
     "start_time": "2024-12-01T19:05:36.531540Z"
    }
   },
   "cell_type": "code",
   "source": [
    "def check_vector(indexes, u):\n",
    "    return int(len(indexes) == 0 or np.all(np.asarray(u)[indexes] == 0))"
   ],
   "id": "dc508de38963d81e",
   "outputs": [],
   "execution_count": 3
  },
  {
   "metadata": {
    "ExecuteTime": {
     "end_time": "2024-12-01T19:05:36.545232Z",
     "start_time": "2024-12-01T19:05:36.541773Z"
    }
   },
   "cell_type": "code",
   "source": [
    "def vectorize_function(indexes, size):\n",
    "    return [check_vector(indexes, b) for b in generate_binary_vectors(size)]"
   ],
   "id": "113dd6d4fe7628d3",
   "outputs": [],
   "execution_count": 4
  },
  {
   "metadata": {
    "ExecuteTime": {
     "end_time": "2024-12-01T19:05:36.560997Z",
     "start_time": "2024-12-01T19:05:36.558015Z"
    }
   },
   "cell_type": "code",
   "source": [
    "def reed_muller_G(r, m):\n",
    "    return np.array([vectorize_function(idx, m) for idx in generate_all_indexes(r, m)])"
   ],
   "id": "edfcee93e6d2d510",
   "outputs": [],
   "execution_count": 5
  },
  {
   "metadata": {
    "ExecuteTime": {
     "end_time": "2024-12-01T19:05:36.572445Z",
     "start_time": "2024-12-01T19:05:36.568242Z"
    }
   },
   "cell_type": "code",
   "source": [
    "def reed_muller_H(index, m):\n",
    "    return [u for u in generate_binary_vectors(m) if check_vector(index, u) == 1]"
   ],
   "id": "db8bb254af2a51fb",
   "outputs": [],
   "execution_count": 6
  },
  {
   "metadata": {
    "ExecuteTime": {
     "end_time": "2024-12-01T19:05:36.583958Z",
     "start_time": "2024-12-01T19:05:36.580464Z"
    }
   },
   "cell_type": "code",
   "source": [
    "def get_complementary_indices(indexes, m):\n",
    "    return [i for i in range(m) if i not in indexes]"
   ],
   "id": "ec613246f3e5ff1",
   "outputs": [],
   "execution_count": 7
  },
  {
   "metadata": {
    "ExecuteTime": {
     "end_time": "2024-12-01T19:05:36.593755Z",
     "start_time": "2024-12-01T19:05:36.590582Z"
    }
   },
   "cell_type": "code",
   "source": [
    "def get_combinations(size, m):\n",
    "    return [list(comb) for comb in combinations(range(m - 1, -1, -1), size)]"
   ],
   "id": "fa7f045798e8b5be",
   "outputs": [],
   "execution_count": 8
  },
  {
   "metadata": {
    "ExecuteTime": {
     "end_time": "2024-12-01T19:05:36.604271Z",
     "start_time": "2024-12-01T19:05:36.600722Z"
    }
   },
   "cell_type": "code",
   "source": [
    "def generate_all_indexes(r, m):\n",
    "    index_array = []\n",
    "    for i in range(r + 1):\n",
    "        index_array.extend(get_combinations(i, m))\n",
    "    return index_array"
   ],
   "id": "5ef77b071eb17925",
   "outputs": [],
   "execution_count": 9
  },
  {
   "metadata": {
    "ExecuteTime": {
     "end_time": "2024-12-01T19:05:36.614328Z",
     "start_time": "2024-12-01T19:05:36.611004Z"
    }
   },
   "cell_type": "code",
   "source": [
    "def f_with_t(index, t, m):\n",
    "    return [int(np.array_equal(np.asarray(b)[index], np.asarray(t)[index])) for b in generate_binary_vectors(m)]"
   ],
   "id": "46f490c528007c28",
   "outputs": [],
   "execution_count": 10
  },
  {
   "metadata": {},
   "cell_type": "markdown",
   "source": "5.2. Алгоритм мажоритарного декодирования для кода РидаМаллера",
   "id": "4355651f23833ebc"
  },
  {
   "metadata": {
    "ExecuteTime": {
     "end_time": "2024-12-01T19:05:36.624179Z",
     "start_time": "2024-12-01T19:05:36.620628Z"
    }
   },
   "cell_type": "code",
   "source": [
    "def majority_vote_decoding(w, H, idx, m):\n",
    "    complementary = get_complementary_indices(idx, m)\n",
    "    vote_vectors = [f_with_t(complementary, u, m) for u in H]\n",
    "    votes = [np.dot(np.asarray(v), np.asarray(w)) % 2 for v in vote_vectors]\n",
    "    return mode(votes)"
   ],
   "id": "f50b713d98361e3e",
   "outputs": [],
   "execution_count": 11
  },
  {
   "metadata": {
    "ExecuteTime": {
     "end_time": "2024-12-01T19:05:36.636068Z",
     "start_time": "2024-12-01T19:05:36.631224Z"
    }
   },
   "cell_type": "code",
   "source": [
    "def decode_with_reed_muller(word_with_error, r, m, G):\n",
    "    a = np.zeros((G.shape[0]), dtype=int)\n",
    "    all_indexes = generate_all_indexes(r, m)\n",
    "\n",
    "    for step in range(r, -1, -1):\n",
    "        index_combinations = get_combinations(step, m)\n",
    "        first_step_results = []\n",
    "\n",
    "        for idx in index_combinations:\n",
    "            H = reed_muller_H(idx, m)\n",
    "            first_step_results.append(majority_vote_decoding(word_with_error, H, idx, m))\n",
    "        position = all_indexes.index(index_combinations[0])\n",
    "\n",
    "        for i in range(len(first_step_results)):\n",
    "            a[i + position] = first_step_results[i]\n",
    "\n",
    "        if step != 0:\n",
    "            word_with_error = (a.T @ G + word_with_error) % 2\n",
    "        else:\n",
    "            word_with_error = a.T @ G % 2\n",
    "        print(f'Слово после шага {abs(step - r - 1)}: {word_with_error}')\n",
    "\n",
    "    return word_with_error"
   ],
   "id": "11a9dafdfd3a769",
   "outputs": [],
   "execution_count": 12
  },
  {
   "metadata": {},
   "cell_type": "markdown",
   "source": "5.3. Экспериментальная проверка алгоритма декодирования",
   "id": "163c3eaccb620e0d"
  },
  {
   "metadata": {
    "ExecuteTime": {
     "end_time": "2024-12-01T19:05:36.647903Z",
     "start_time": "2024-12-01T19:05:36.642687Z"
    }
   },
   "cell_type": "code",
   "source": [
    "def reed_muller_experiment():\n",
    "    r, m = 2, 4\n",
    "    G = reed_muller_G(r, m)\n",
    "    print('Порождающая матрица G: \\n', G)\n",
    "    original_word = np.array([0, 1, 0, 0, 0, 0, 0, 0, 0, 1, 0])\n",
    "    print('Исходное слово: ', original_word)\n",
    "    encrypted_word = original_word @ G % 2\n",
    "    print('Зашифрованное слово: ', encrypted_word)\n",
    "\n",
    "    E = np.eye(16, dtype=int)\n",
    "    word_with_error = (encrypted_word + E[4]) % 2\n",
    "    print('Слово с ошибкой: ', word_with_error)\n",
    "\n",
    "    decoded_word = decode_with_reed_muller(word_with_error, r, m, G)\n",
    "    print('Исправленное сообщение: ', decoded_word)\n",
    "\n",
    "    if np.array_equal(encrypted_word, decoded_word):\n",
    "        print(\"Отправленное слово и декодированное совпадают.\\n\")\n",
    "    else:\n",
    "        print(\"Отправленное слово и декодированное не совпадают.\\n\")"
   ],
   "id": "b0d10b253983d8d9",
   "outputs": [],
   "execution_count": 13
  },
  {
   "metadata": {
    "ExecuteTime": {
     "end_time": "2024-12-01T19:05:36.682700Z",
     "start_time": "2024-12-01T19:05:36.660945Z"
    }
   },
   "cell_type": "code",
   "source": "reed_muller_experiment()",
   "id": "e75f3748b86f9771",
   "outputs": [
    {
     "name": "stdout",
     "output_type": "stream",
     "text": [
      "Порождающая матрица G: \n",
      " [[1 1 1 1 1 1 1 1 1 1 1 1 1 1 1 1]\n",
      " [1 1 1 1 1 1 1 1 0 0 0 0 0 0 0 0]\n",
      " [1 1 1 1 0 0 0 0 1 1 1 1 0 0 0 0]\n",
      " [1 1 0 0 1 1 0 0 1 1 0 0 1 1 0 0]\n",
      " [1 0 1 0 1 0 1 0 1 0 1 0 1 0 1 0]\n",
      " [1 1 1 1 0 0 0 0 0 0 0 0 0 0 0 0]\n",
      " [1 1 0 0 1 1 0 0 0 0 0 0 0 0 0 0]\n",
      " [1 0 1 0 1 0 1 0 0 0 0 0 0 0 0 0]\n",
      " [1 1 0 0 0 0 0 0 1 1 0 0 0 0 0 0]\n",
      " [1 0 1 0 0 0 0 0 1 0 1 0 0 0 0 0]\n",
      " [1 0 0 0 1 0 0 0 1 0 0 0 1 0 0 0]]\n",
      "Исходное слово:  [0 1 0 0 0 0 0 0 0 1 0]\n",
      "Зашифрованное слово:  [0 1 0 1 1 1 1 1 1 0 1 0 0 0 0 0]\n",
      "Слово с ошибкой:  [0 1 0 1 0 1 1 1 1 0 1 0 0 0 0 0]\n",
      "Слово после шага 1: [1 1 1 1 0 1 1 1 0 0 0 0 0 0 0 0]\n",
      "Слово после шага 2: [1 0 1 0 1 0 0 0 1 0 1 0 0 0 0 0]\n",
      "Слово после шага 3: [0 1 0 1 1 1 1 1 1 0 1 0 0 0 0 0]\n",
      "Исправленное сообщение:  [0 1 0 1 1 1 1 1 1 0 1 0 0 0 0 0]\n",
      "Отправленное слово и декодированное совпадают.\n",
      "\n"
     ]
    }
   ],
   "execution_count": 14
  }
 ],
 "metadata": {
  "kernelspec": {
   "display_name": "Python 3",
   "language": "python",
   "name": "python3"
  },
  "language_info": {
   "codemirror_mode": {
    "name": "ipython",
    "version": 2
   },
   "file_extension": ".py",
   "mimetype": "text/x-python",
   "name": "python",
   "nbconvert_exporter": "python",
   "pygments_lexer": "ipython2",
   "version": "2.7.6"
  }
 },
 "nbformat": 4,
 "nbformat_minor": 5
}
