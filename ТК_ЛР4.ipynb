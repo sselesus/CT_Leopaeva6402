{
 "cells": [
  {
   "metadata": {},
   "cell_type": "markdown",
   "source": "Выполнила Леопаева Л.А., 6402-010302D",
   "id": "872dbe67815d65b9"
  },
  {
   "metadata": {},
   "cell_type": "markdown",
   "source": "Лабораторная работа 4",
   "id": "7201d9b397f53aca"
  },
  {
   "cell_type": "code",
   "id": "initial_id",
   "metadata": {
    "collapsed": true,
    "ExecuteTime": {
     "end_time": "2024-12-01T18:46:39.470052Z",
     "start_time": "2024-12-01T18:46:39.349816Z"
    }
   },
   "source": [
    "import random\n",
    "import numpy as np"
   ],
   "outputs": [],
   "execution_count": 1
  },
  {
   "metadata": {},
   "cell_type": "markdown",
   "source": "Часть 1",
   "id": "486b5441bdbd4d12"
  },
  {
   "metadata": {},
   "cell_type": "markdown",
   "source": [
    "4.1. Функция формирования порождающей и проверочной\n",
    "матриц расширенного кода Голея (24,12,8)."
   ],
   "id": "2dcfc1d9e8232c48"
  },
  {
   "metadata": {
    "ExecuteTime": {
     "end_time": "2024-12-01T18:46:39.483005Z",
     "start_time": "2024-12-01T18:46:39.476858Z"
    }
   },
   "cell_type": "code",
   "source": [
    "# Матрица Б (часть расширенного кода Голея)\n",
    "B = np.array([\n",
    "    [1, 1, 0, 1, 1, 1, 0, 0, 0, 1, 0, 1],\n",
    "    [1, 0, 1, 1, 1, 0, 0, 0, 1, 0, 1, 1],\n",
    "    [0, 1, 1, 1, 0, 0, 0, 1, 0, 1, 1, 1],\n",
    "    [1, 1, 1, 0, 0, 0, 1, 0, 1, 1, 0, 1],\n",
    "    [1, 1, 0, 0, 0, 1, 0, 1, 1, 0, 1, 1],\n",
    "    [1, 0, 0, 0, 1, 0, 1, 1, 0, 1, 1, 1],\n",
    "    [0, 0, 0, 1, 0, 1, 1, 0, 1, 1, 1, 1],\n",
    "    [0, 0, 1, 0, 1, 1, 0, 1, 1, 1, 0, 1],\n",
    "    [0, 1, 0, 1, 1, 0, 1, 1, 1, 0, 0, 1],\n",
    "    [1, 0, 1, 1, 0, 1, 1, 1, 0, 0, 0, 1],\n",
    "    [0, 1, 1, 0, 1, 1, 1, 0, 0, 0, 1, 1],\n",
    "    [1, 1, 1, 1, 1, 1, 1, 1, 1, 1, 1, 0]\n",
    "])"
   ],
   "id": "c69f139c77c0b3a8",
   "outputs": [],
   "execution_count": 2
  },
  {
   "metadata": {
    "ExecuteTime": {
     "end_time": "2024-12-01T18:46:39.566553Z",
     "start_time": "2024-12-01T18:46:39.563153Z"
    }
   },
   "cell_type": "code",
   "source": [
    "def generate_g_h(B):\n",
    "    G = np.hstack((np.eye(12, dtype=int), B))\n",
    "    H = np.vstack((np.eye(12, dtype=int), B))\n",
    "    return G, H"
   ],
   "id": "e7ca7735280cf594",
   "outputs": [],
   "execution_count": 3
  },
  {
   "metadata": {},
   "cell_type": "markdown",
   "source": [
    "4.2. Исследование расширенного кода Голея для одно-, двух-,\n",
    "трёх- и четырёхкратных ошибок."
   ],
   "id": "f8dc67f79b1328a3"
  },
  {
   "metadata": {
    "ExecuteTime": {
     "end_time": "2024-12-01T18:46:39.579451Z",
     "start_time": "2024-12-01T18:46:39.574380Z"
    }
   },
   "cell_type": "code",
   "source": [
    "def simulate_errors(word, G, count):\n",
    "    encrypted_word = word @ G % 2\n",
    "    print(f\"\\nИсходное слово: {word}\")\n",
    "    print(f\"Зашифрованное слово: {encrypted_word}\")\n",
    "    error_positions = random.sample(range(encrypted_word.shape[0]), count)\n",
    "    error_vector = np.zeros(encrypted_word.shape[0], dtype=int)\n",
    "    for idx in error_positions:\n",
    "        error_vector[idx] = 1\n",
    "    word_with_error = (encrypted_word + error_vector) % 2\n",
    "    print(f\"Слово с {count} ошибками: {word_with_error}\")\n",
    "    return word_with_error"
   ],
   "id": "587b9014589cea38",
   "outputs": [],
   "execution_count": 4
  },
  {
   "metadata": {
    "ExecuteTime": {
     "end_time": "2024-12-01T18:46:39.592555Z",
     "start_time": "2024-12-01T18:46:39.586937Z"
    }
   },
   "cell_type": "code",
   "source": [
    "def find_and_correct_errors(word_with_error, H, B):\n",
    "    syndrome = word_with_error @ H % 2\n",
    "    corrected = None\n",
    "    if np.sum(syndrome) <= 3:\n",
    "        corrected = np.hstack((syndrome, np.zeros(len(syndrome), dtype=int)))\n",
    "    else:\n",
    "        for i in range(len(B)):\n",
    "            temp_syndrome = (syndrome + B[i]) % 2\n",
    "            if np.sum(temp_syndrome) <= 2:\n",
    "                mistake_index = np.zeros(len(syndrome), dtype=int)\n",
    "                mistake_index[i] = 1\n",
    "                corrected = np.hstack((temp_syndrome, mistake_index))\n",
    "    if corrected is None:\n",
    "        syndrome_B = syndrome @ B % 2\n",
    "        if np.sum(syndrome_B) <= 3:\n",
    "            corrected = np.hstack((np.zeros(len(syndrome), dtype=int), syndrome_B))\n",
    "        else:\n",
    "            for i in range(len(B)):\n",
    "                temp_syndrome = (syndrome_B + B[i]) % 2\n",
    "                if np.sum(temp_syndrome) <= 2:\n",
    "                    mistake_index = np.zeros(len(syndrome), dtype=int)\n",
    "                    mistake_index[i] = 1\n",
    "                    corrected = np.hstack((mistake_index, temp_syndrome))\n",
    "    return corrected"
   ],
   "id": "7eac25e387103b3a",
   "outputs": [],
   "execution_count": 5
  },
  {
   "metadata": {
    "ExecuteTime": {
     "end_time": "2024-12-01T18:46:39.603745Z",
     "start_time": "2024-12-01T18:46:39.599603Z"
    }
   },
   "cell_type": "code",
   "source": [
    "def correct_received_word(original_word, received_word, H, B, G):\n",
    "    corrected = find_and_correct_errors(received_word, H, B)\n",
    "    if corrected is None:\n",
    "        print(\"Ошибка не может быть исправлена!\")\n",
    "        return\n",
    "    corrected_word = (received_word + corrected) % 2\n",
    "    print(f\"Исправленное слово: {corrected_word}\")\n",
    "    encoded_word = original_word @ G % 2\n",
    "    if not np.array_equal(encoded_word, corrected_word):\n",
    "        print(\"Сообщение не было декодировано правильно!\")"
   ],
   "id": "94cbb8196b1a27a7",
   "outputs": [],
   "execution_count": 6
  },
  {
   "metadata": {
    "ExecuteTime": {
     "end_time": "2024-12-01T18:48:59.283672Z",
     "start_time": "2024-12-01T18:48:59.279321Z"
    }
   },
   "cell_type": "code",
   "source": [
    "def golay_code_research():\n",
    "    G, H = generate_g_h(B)\n",
    "    print(f\"G:\\n{G}\\nH:\\n{H}\")\n",
    "\n",
    "    word = np.array([i % 2 for i in range(len(G))])\n",
    "\n",
    "    for i in range(5):\n",
    "        received_word = simulate_errors(word, G, i)\n",
    "        correct_received_word(word, received_word, H, B, G)\n",
    "        print('')"
   ],
   "id": "2207aa4af6c8d4c7",
   "outputs": [],
   "execution_count": 9
  },
  {
   "metadata": {
    "ExecuteTime": {
     "end_time": "2024-12-01T18:49:00.602307Z",
     "start_time": "2024-12-01T18:49:00.594260Z"
    }
   },
   "cell_type": "code",
   "source": "golay_code_research()",
   "id": "54ea9c0fb26f33",
   "outputs": [
    {
     "name": "stdout",
     "output_type": "stream",
     "text": [
      "G:\n",
      "[[1 0 0 0 0 0 0 0 0 0 0 0 1 1 0 1 1 1 0 0 0 1 0 1]\n",
      " [0 1 0 0 0 0 0 0 0 0 0 0 1 0 1 1 1 0 0 0 1 0 1 1]\n",
      " [0 0 1 0 0 0 0 0 0 0 0 0 0 1 1 1 0 0 0 1 0 1 1 1]\n",
      " [0 0 0 1 0 0 0 0 0 0 0 0 1 1 1 0 0 0 1 0 1 1 0 1]\n",
      " [0 0 0 0 1 0 0 0 0 0 0 0 1 1 0 0 0 1 0 1 1 0 1 1]\n",
      " [0 0 0 0 0 1 0 0 0 0 0 0 1 0 0 0 1 0 1 1 0 1 1 1]\n",
      " [0 0 0 0 0 0 1 0 0 0 0 0 0 0 0 1 0 1 1 0 1 1 1 1]\n",
      " [0 0 0 0 0 0 0 1 0 0 0 0 0 0 1 0 1 1 0 1 1 1 0 1]\n",
      " [0 0 0 0 0 0 0 0 1 0 0 0 0 1 0 1 1 0 1 1 1 0 0 1]\n",
      " [0 0 0 0 0 0 0 0 0 1 0 0 1 0 1 1 0 1 1 1 0 0 0 1]\n",
      " [0 0 0 0 0 0 0 0 0 0 1 0 0 1 1 0 1 1 1 0 0 0 1 1]\n",
      " [0 0 0 0 0 0 0 0 0 0 0 1 1 1 1 1 1 1 1 1 1 1 1 0]]\n",
      "H:\n",
      "[[1 0 0 0 0 0 0 0 0 0 0 0]\n",
      " [0 1 0 0 0 0 0 0 0 0 0 0]\n",
      " [0 0 1 0 0 0 0 0 0 0 0 0]\n",
      " [0 0 0 1 0 0 0 0 0 0 0 0]\n",
      " [0 0 0 0 1 0 0 0 0 0 0 0]\n",
      " [0 0 0 0 0 1 0 0 0 0 0 0]\n",
      " [0 0 0 0 0 0 1 0 0 0 0 0]\n",
      " [0 0 0 0 0 0 0 1 0 0 0 0]\n",
      " [0 0 0 0 0 0 0 0 1 0 0 0]\n",
      " [0 0 0 0 0 0 0 0 0 1 0 0]\n",
      " [0 0 0 0 0 0 0 0 0 0 1 0]\n",
      " [0 0 0 0 0 0 0 0 0 0 0 1]\n",
      " [1 1 0 1 1 1 0 0 0 1 0 1]\n",
      " [1 0 1 1 1 0 0 0 1 0 1 1]\n",
      " [0 1 1 1 0 0 0 1 0 1 1 1]\n",
      " [1 1 1 0 0 0 1 0 1 1 0 1]\n",
      " [1 1 0 0 0 1 0 1 1 0 1 1]\n",
      " [1 0 0 0 1 0 1 1 0 1 1 1]\n",
      " [0 0 0 1 0 1 1 0 1 1 1 1]\n",
      " [0 0 1 0 1 1 0 1 1 1 0 1]\n",
      " [0 1 0 1 1 0 1 1 1 0 0 1]\n",
      " [1 0 1 1 0 1 1 1 0 0 0 1]\n",
      " [0 1 1 0 1 1 1 0 0 0 1 1]\n",
      " [1 1 1 1 1 1 1 1 1 1 1 0]]\n",
      "\n",
      "Исходное слово: [0 1 0 1 0 1 0 1 0 1 0 1]\n",
      "Зашифрованное слово: [0 1 0 1 0 1 0 1 0 1 0 1 1 0 1 1 0 1 0 0 0 0 1 1]\n",
      "Слово с 0 ошибками: [0 1 0 1 0 1 0 1 0 1 0 1 1 0 1 1 0 1 0 0 0 0 1 1]\n",
      "Исправленное слово: [0 1 0 1 0 1 0 1 0 1 0 1 1 0 1 1 0 1 0 0 0 0 1 1]\n",
      "\n",
      "\n",
      "Исходное слово: [0 1 0 1 0 1 0 1 0 1 0 1]\n",
      "Зашифрованное слово: [0 1 0 1 0 1 0 1 0 1 0 1 1 0 1 1 0 1 0 0 0 0 1 1]\n",
      "Слово с 1 ошибками: [0 1 0 1 0 1 0 1 0 1 0 1 1 0 1 1 0 1 0 1 0 0 1 1]\n",
      "Исправленное слово: [0 1 0 1 0 1 0 1 0 1 0 1 1 0 1 1 0 1 0 0 0 0 1 1]\n",
      "\n",
      "\n",
      "Исходное слово: [0 1 0 1 0 1 0 1 0 1 0 1]\n",
      "Зашифрованное слово: [0 1 0 1 0 1 0 1 0 1 0 1 1 0 1 1 0 1 0 0 0 0 1 1]\n",
      "Слово с 2 ошибками: [0 1 0 1 0 1 0 1 0 1 0 0 1 0 1 1 0 1 0 1 0 0 1 1]\n",
      "Исправленное слово: [0 1 0 1 0 1 0 1 0 1 0 1 1 0 1 1 0 1 0 0 0 0 1 1]\n",
      "\n",
      "\n",
      "Исходное слово: [0 1 0 1 0 1 0 1 0 1 0 1]\n",
      "Зашифрованное слово: [0 1 0 1 0 1 0 1 0 1 0 1 1 0 1 1 0 1 0 0 0 0 1 1]\n",
      "Слово с 3 ошибками: [0 1 0 1 0 1 1 1 1 1 0 1 1 0 1 1 0 1 0 0 1 0 1 1]\n",
      "Исправленное слово: [0 1 0 1 0 1 0 1 0 1 0 1 1 0 1 1 0 1 0 0 0 0 1 1]\n",
      "\n",
      "\n",
      "Исходное слово: [0 1 0 1 0 1 0 1 0 1 0 1]\n",
      "Зашифрованное слово: [0 1 0 1 0 1 0 1 0 1 0 1 1 0 1 1 0 1 0 0 0 0 1 1]\n",
      "Слово с 4 ошибками: [0 0 0 1 1 1 1 1 0 1 0 1 1 0 1 1 0 1 0 0 0 0 1 0]\n",
      "Ошибка не может быть исправлена!\n",
      "\n"
     ]
    }
   ],
   "execution_count": 10
  },
  {
   "metadata": {},
   "cell_type": "markdown",
   "source": "Часть 2",
   "id": "7bb81f6f44b6ee63"
  },
  {
   "metadata": {},
   "cell_type": "markdown",
   "source": [
    "4.3. Функция формирования порождающей и проверочных\n",
    "матриц кода Рида-Маллера"
   ],
   "id": "36ea0534302ab68d"
  },
  {
   "metadata": {
    "ExecuteTime": {
     "end_time": "2024-12-01T18:53:05.336777Z",
     "start_time": "2024-12-01T18:53:05.331566Z"
    }
   },
   "cell_type": "code",
   "source": [
    "def generate_rm_matrices(r, m):\n",
    "    if 0 < r < m:\n",
    "        upper_left = generate_rm_matrices(r, m - 1)\n",
    "        lower_right = generate_rm_matrices(r - 1, m - 1)\n",
    "        return np.hstack([np.vstack([upper_left, np.zeros((len(lower_right), len(upper_left.T)), int)]), \\\n",
    "                          np.vstack([upper_left, lower_right])])\n",
    "    elif r == 0:\n",
    "        return np.ones((1, 2 ** m), dtype=int)\n",
    "    elif r == m:\n",
    "        upper = generate_rm_matrices(m - 1, m)\n",
    "        lower = np.zeros((1, 2 ** m), dtype=int)\n",
    "        lower[0][len(lower.T) - 1] = 1\n",
    "        return np.vstack([upper, lower])"
   ],
   "id": "ebfc30bae172a09c",
   "outputs": [],
   "execution_count": 11
  },
  {
   "metadata": {
    "ExecuteTime": {
     "end_time": "2024-12-01T18:53:06.857190Z",
     "start_time": "2024-12-01T18:53:06.853250Z"
    }
   },
   "cell_type": "code",
   "source": [
    "def generate_hm_matrices(i, m):\n",
    "    H = np.array([[1, 1], [1, -1]])\n",
    "    result = np.kron(np.eye(2 ** (m - i)), H)\n",
    "    result = np.kron(result, np.eye(2 ** (i - 1)))\n",
    "    return result"
   ],
   "id": "8a93161707ea242c",
   "outputs": [],
   "execution_count": 12
  },
  {
   "metadata": {},
   "cell_type": "markdown",
   "source": [
    "4.4-5. Исследование кода Рида-Маллера для одно- и\n",
    "двукратных ошибок."
   ],
   "id": "14b6928247a2f9d"
  },
  {
   "metadata": {
    "ExecuteTime": {
     "end_time": "2024-12-01T18:53:08.397449Z",
     "start_time": "2024-12-01T18:53:08.389401Z"
    }
   },
   "cell_type": "code",
   "source": [
    "def rm_code_research(word, G, error_count, m):\n",
    "    received_word = simulate_errors(word, G, error_count)\n",
    "    for i in range(len(received_word)):\n",
    "        if received_word[i] == 0:\n",
    "            received_word[i] = -1\n",
    "    w_t = [received_word @ generate_hm_matrices(1, m)]\n",
    "    for i in range(2, m + 1):\n",
    "        w_t.append(w_t[-1] @ generate_hm_matrices(i, m))\n",
    "    maximum = w_t[0][0]\n",
    "    index = -1\n",
    "    for i in range(len(w_t)):\n",
    "        for j in range(len(w_t[i])):\n",
    "            if abs(w_t[i][j]) > abs(maximum):\n",
    "                index = j\n",
    "                maximum = w_t[i][j]\n",
    "    counter = 0\n",
    "    for i in range(len(w_t)):\n",
    "        for j in range(len(w_t[i])):\n",
    "            if abs(w_t[i][j]) == abs(maximum):\n",
    "                counter += 1\n",
    "            if counter > 1:\n",
    "                print(\"Невозможно исправить ошибку.\\n\")\n",
    "                return\n",
    "    corrected_word = list(map(int, list(('{' + f'0:0{m}b' + '}').format(index))))\n",
    "    if maximum > 0:\n",
    "        corrected_word.append(1)\n",
    "    else:\n",
    "        corrected_word.append(0)\n",
    "    print(f\"Исправленное сообщение: {np.array(corrected_word[::-1])}\")"
   ],
   "id": "e6afa0c834cb5585",
   "outputs": [],
   "execution_count": 13
  },
  {
   "metadata": {
    "ExecuteTime": {
     "end_time": "2024-12-01T18:53:11.292742Z",
     "start_time": "2024-12-01T18:53:11.286898Z"
    }
   },
   "cell_type": "code",
   "source": [
    "def reed_muller_code_research():\n",
    "    m = 3\n",
    "    print(f\"\\nПорождающая матрица Рида-Маллера (1,3): \\n{generate_rm_matrices(1, m)}\\n\")\n",
    "    word = np.array([i % 2 for i in range(len(generate_rm_matrices(1, m)))])\n",
    "    for j in range(1, 3):\n",
    "        rm_code_research(word, generate_rm_matrices(1, m), j, m)\n",
    "\n",
    "    m = 4\n",
    "    print(f\"\\nПорождающая матрица Рида-Маллера (1,4)\\n{generate_rm_matrices(1, m)}\\n\")\n",
    "    word = np.array([i % 2 for i in range(len(generate_rm_matrices(1, m)))])\n",
    "    for j in range(1, 5):\n",
    "        rm_code_research(word, generate_rm_matrices(1, m), j, m)"
   ],
   "id": "4bc9f3c5d128c454",
   "outputs": [],
   "execution_count": 14
  },
  {
   "metadata": {
    "ExecuteTime": {
     "end_time": "2024-12-01T18:53:15.045533Z",
     "start_time": "2024-12-01T18:53:15.036370Z"
    }
   },
   "cell_type": "code",
   "source": "reed_muller_code_research()",
   "id": "1995cc3c62968861",
   "outputs": [
    {
     "name": "stdout",
     "output_type": "stream",
     "text": [
      "\n",
      "Порождающая матрица Рида-Маллера (1,3): \n",
      "[[1 1 1 1 1 1 1 1]\n",
      " [0 1 0 1 0 1 0 1]\n",
      " [0 0 1 1 0 0 1 1]\n",
      " [0 0 0 0 1 1 1 1]]\n",
      "\n",
      "\n",
      "Исходное слово: [0 1 0 1]\n",
      "Зашифрованное слово: [0 1 0 1 1 0 1 0]\n",
      "Слово с 1 ошибками: [0 1 0 1 1 1 1 0]\n",
      "Исправленное сообщение: [0 1 0 1]\n",
      "\n",
      "Исходное слово: [0 1 0 1]\n",
      "Зашифрованное слово: [0 1 0 1 1 0 1 0]\n",
      "Слово с 2 ошибками: [0 1 0 0 1 0 0 0]\n",
      "Невозможно исправить ошибку.\n",
      "\n",
      "\n",
      "Порождающая матрица Рида-Маллера (1,4)\n",
      "[[1 1 1 1 1 1 1 1 1 1 1 1 1 1 1 1]\n",
      " [0 1 0 1 0 1 0 1 0 1 0 1 0 1 0 1]\n",
      " [0 0 1 1 0 0 1 1 0 0 1 1 0 0 1 1]\n",
      " [0 0 0 0 1 1 1 1 0 0 0 0 1 1 1 1]\n",
      " [0 0 0 0 0 0 0 0 1 1 1 1 1 1 1 1]]\n",
      "\n",
      "\n",
      "Исходное слово: [0 1 0 1 0]\n",
      "Зашифрованное слово: [0 1 0 1 1 0 1 0 0 1 0 1 1 0 1 0]\n",
      "Слово с 1 ошибками: [0 1 0 1 1 0 1 0 0 1 0 1 0 0 1 0]\n",
      "Исправленное сообщение: [0 1 0 1 0]\n",
      "\n",
      "Исходное слово: [0 1 0 1 0]\n",
      "Зашифрованное слово: [0 1 0 1 1 0 1 0 0 1 0 1 1 0 1 0]\n",
      "Слово с 2 ошибками: [0 1 0 1 1 0 1 1 0 0 0 1 1 0 1 0]\n",
      "Исправленное сообщение: [0 1 0 1 0]\n",
      "\n",
      "Исходное слово: [0 1 0 1 0]\n",
      "Зашифрованное слово: [0 1 0 1 1 0 1 0 0 1 0 1 1 0 1 0]\n",
      "Слово с 3 ошибками: [0 1 0 0 1 0 1 1 0 1 0 1 0 0 1 0]\n",
      "Исправленное сообщение: [0 1 0 1 0]\n",
      "\n",
      "Исходное слово: [0 1 0 1 0]\n",
      "Зашифрованное слово: [0 1 0 1 1 0 1 0 0 1 0 1 1 0 1 0]\n",
      "Слово с 4 ошибками: [0 1 0 1 0 0 0 0 1 0 0 1 1 0 1 0]\n",
      "Невозможно исправить ошибку.\n",
      "\n"
     ]
    }
   ],
   "execution_count": 15
  }
 ],
 "metadata": {
  "kernelspec": {
   "display_name": "Python 3",
   "language": "python",
   "name": "python3"
  },
  "language_info": {
   "codemirror_mode": {
    "name": "ipython",
    "version": 2
   },
   "file_extension": ".py",
   "mimetype": "text/x-python",
   "name": "python",
   "nbconvert_exporter": "python",
   "pygments_lexer": "ipython2",
   "version": "2.7.6"
  }
 },
 "nbformat": 4,
 "nbformat_minor": 5
}
