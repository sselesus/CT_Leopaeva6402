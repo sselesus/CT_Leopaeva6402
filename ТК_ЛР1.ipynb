{
  "metadata": {
    "kernelspec": {
      "name": "python",
      "display_name": "Python (Pyodide)",
      "language": "python"
    },
    "language_info": {
      "codemirror_mode": {
        "name": "python",
        "version": 3
      },
      "file_extension": ".py",
      "mimetype": "text/x-python",
      "name": "python",
      "nbconvert_exporter": "python",
      "pygments_lexer": "ipython3",
      "version": "3.8"
    }
  },
  "nbformat_minor": 4,
  "nbformat": 4,
  "cells": [
    {
      "cell_type": "markdown",
      "source": "Выполнила Леопаева Л.А., 6402-010302D",
      "metadata": {}
    },
    {
      "cell_type": "markdown",
      "source": "Лабораторная работа 1",
      "metadata": {}
    },
    {
      "cell_type": "code",
      "source": "import numpy as np\nfrom itertools import combinations",
      "metadata": {
        "trusted": true
      },
      "outputs": [],
      "execution_count": 2
    },
    {
      "cell_type": "markdown",
      "source": "1.1. Реализовать функцию REF(), приводящую матрицу к\nступенчатому виду.",
      "metadata": {}
    },
    {
      "cell_type": "code",
      "source": "def REF(mat):\n    matrix = np.array(mat)\n    rows, cols = matrix.shape\n    leading_col = 0\n    for r in range(rows):\n        if leading_col >= cols:\n            return matrix\n        i = r\n        while matrix[i, leading_col] == 0:\n            i += 1\n            if i == rows:\n                i = r\n                leading_col += 1\n                if leading_col == cols:\n                    return matrix\n        matrix[[i, r]] = matrix[[r, i]]\n\n        for i in range(r + 1, rows):\n            if matrix[i, leading_col] != 0:\n                matrix[i] = (matrix[i] + matrix[r]) % 2\n        leading_col += 1\n\n    return matrix\n\n\nS = np.array([\n        [1, 0, 1, 1, 0, 0, 0, 1, 0, 0, 1],\n        [0, 0, 0, 1, 1, 1, 0, 1, 0, 1, 0],\n        [0, 0, 0, 0, 1, 0, 0, 1, 0, 0, 1],\n        [1, 0, 1, 0, 1, 1, 1, 0, 0, 0, 1],\n        [0, 0, 0, 0, 1, 0, 0, 1, 1, 1, 0],\n        [1, 0, 1, 1, 1, 0, 0, 0, 0, 0, 0]])\n\nS_REF = REF(S)\nprint(f\"\\nПорождающая матрица в ступенчатом виде на основе входной:\\n{S_REF}\")",
      "metadata": {
        "trusted": true
      },
      "outputs": [
        {
          "name": "stdout",
          "text": "\nПорождающая матрица в ступенчатом виде на основе входной:\n[[1 0 1 1 0 0 0 1 0 0 1]\n [0 0 0 1 1 1 0 1 0 1 0]\n [0 0 0 0 1 0 0 1 0 0 1]\n [0 0 0 0 0 0 1 0 0 1 0]\n [0 0 0 0 0 0 0 0 1 1 1]\n [0 0 0 0 0 0 0 0 0 0 0]]\n",
          "output_type": "stream"
        }
      ],
      "execution_count": 7
    },
    {
      "cell_type": "markdown",
      "source": "1.2. Реализовать функцию RREF(), приводящую матрицу к\nприведённому ступенчатому виду. ",
      "metadata": {}
    },
    {
      "cell_type": "code",
      "source": "def RREF(inp_matrix):\n    matrix = REF(inp_matrix)\n    rows, cols = matrix.shape\n    leading_col = 0\n\n    for r in range(rows):\n        # Пропускаем строки с нулями\n        while leading_col < cols and matrix[r, leading_col] == 0:\n            leading_col += 1\n        if leading_col >= cols:\n            break\n\n        # Обнуляем элементы выше ведущего элемента\n        for i in range(r):\n            if matrix[i, leading_col] != 0:\n                matrix[i] = (matrix[i] + matrix[r]) % 2\n\n    non_zero_rows = matrix[~np.all(matrix == 0, axis=1)]\n    return non_zero_rows\n\n\nS_RREF = RREF(S)\nprint(f\"\\nСтупенчатая матрица по модулю 2: \\n{S_RREF}\")",
      "metadata": {
        "trusted": true
      },
      "outputs": [
        {
          "name": "stdout",
          "text": "\nСтупенчатая матрица по модулю 2: \n[[1 0 1 0 0 1 0 1 0 1 0]\n [0 0 0 1 0 1 0 0 0 1 1]\n [0 0 0 0 1 0 0 1 0 0 1]\n [0 0 0 0 0 0 1 0 0 1 0]\n [0 0 0 0 0 0 0 0 1 1 1]]\n",
          "output_type": "stream"
        }
      ],
      "execution_count": 8
    },
    {
      "cell_type": "markdown",
      "source": "1.3. Создать класс линейных кодов LinearCode. ",
      "metadata": {}
    },
    {
      "cell_type": "code",
      "source": "class LinearCode:\n    def __init__(self, generator_matrix):\n        \"\"\"\n        Инициализация линейного кода.\n        \"\"\"\n        self.G = np.array(generator_matrix)\n        self.G = self.RREF(self.G)\n        self.k, self.n = self.G.shape\n\n    def REF(self, mat):\n        \"\"\"\n        Приведение матрицы к ступенчатому виду.\n        \"\"\"\n        matrix = np.array(mat)\n        rows, cols = matrix.shape\n        leading_col = 0\n        for r in range(rows):\n            if leading_col >= cols:\n                return matrix\n            i = r\n            while matrix[i, leading_col] == 0:\n                i += 1\n                if i == rows:\n                    i = r\n                    leading_col += 1\n                    if leading_col == cols:\n                        return matrix\n            matrix[[i, r]] = matrix[[r, i]]\n\n            for i in range(r + 1, rows):\n                if matrix[i, leading_col] != 0:\n                    matrix[i] = (matrix[i] + matrix[r]) % 2\n            leading_col += 1\n\n        return matrix\n\n    def RREF(self, inp_matrix):\n        \"\"\"\n        Приведение матрицы к приведённому ступенчатому виду.\n        \"\"\"\n        matrix = self.REF(inp_matrix)\n        rows, cols = matrix.shape\n        leading_col = 0\n\n        for r in range(rows):\n            # Пропускаем строки с нулями\n            while leading_col < cols and matrix[r, leading_col] == 0:\n                leading_col += 1\n            if leading_col >= cols:\n                break\n\n            # Обнуляем элементы выше ведущего элемента\n            for i in range(r):\n                if matrix[i, leading_col] != 0:\n                    matrix[i] = (matrix[i] + matrix[r]) % 2\n\n        non_zero_rows = matrix[~np.all(matrix == 0, axis=1)]\n        return non_zero_rows\n\n    def find_leading_columns(self):\n        \"\"\"\n        Находит индексы ведущих столбцов матрицы.\n        \"\"\"\n        lead_columns = []\n        for row in self.G:\n            lead_index = np.where(row != 0)[0]\n            if lead_index.size > 0:\n                lead_columns.append(int(lead_index[0]))\n        return lead_columns\n\n    def reduce_matrix(self, lead_columns):\n        \"\"\"\n        Формирует сокращённую матрицу, удаляя ведущие столбцы из матрицы.\n        \"\"\"\n        mask = np.ones(self.n, dtype=bool)\n        mask[lead_columns] = False\n        reduced_matrix = self.G[:, mask]\n        return reduced_matrix\n\n    def compute_parity_check_matrix(self, lead_columns, reduced_matrix):\n        \"\"\"\n        Формирует матрицу H, помещая строки из сокращённой матрицы X в строки,\n        соответствующие ведущим столбцам, и заполняя остальные строки единичной матрицей.\n        \"\"\"\n        identity_matrix = np.eye(self.n - len(lead_columns), dtype=int)\n\n        result = []\n        total_rows = len(lead_columns) + identity_matrix.shape[0]\n\n        x_index = 0\n        for i in range(total_rows):\n            if x_index < len(reduced_matrix) and (x_index < len(lead_columns) and lead_columns[x_index] == i):\n                result.append(reduced_matrix[x_index])\n                x_index += 1\n            else:\n                result.append(identity_matrix[i - x_index])\n\n        return np.array(result)\n\n\n    def generate_codewords_1(self):\n        '''\n        Формирование кодовых слов длиной n\n        путем сложения слов из порождающего множества.\n        '''\n        rows = self.G.shape[0]\n        codewords = set()\n\n        for r in range(1, rows + 1):\n            for comb in combinations(range(rows), r):\n                codeword = np.bitwise_xor.reduce(self.G[list(comb)], axis=0)\n                codewords.add(tuple(codeword))\n\n        codewords.add(tuple(np.zeros(self.n, dtype=int)))\n\n        return np.array(list(codewords))\n\n\n    def generate_codewords_2(self):\n        '''\n        Формирование кодовых слов длиной n\n        путем умножения всех\n        двоичных слов длины k на G.\n        '''\n        k = self.k\n        codewords = []\n        for i in range(2 ** k):\n            binary_word = np.array(list(np.binary_repr(i, width=k)), dtype=int)\n            codeword = np.dot(binary_word, self.G) % 2\n            codewords.append(codeword)\n\n        return np.array(codewords)\n\n\n    def check_codeword(self, H, codeword):\n        '''\n        Функция проверки кодовых слов\n        путем умножения на проверочную матрицу.\n        '''\n        codeword_reshaped = codeword.reshape(1, -1)\n        return np.dot(codeword_reshaped, H) % 2\n\n    def compute_distance(self):\n        \"\"\"\n        Вычисляет кодовое расстояние d.\n        \"\"\"\n        codewords = self.generate_codewords_2()\n        non_zero_codewords = codewords[codewords.any(axis=1)]\n        distances = np.sum(non_zero_codewords, axis=1)\n\n        d = np.min(distances) if distances.size > 0 else 0\n\n        return d\n\n    def compute_t(self, distance):\n        \"\"\"\n        Вычисляет кратность обнаруживаемой ошибки t.\n        \"\"\"\n        # t = (d - 1) // 2\n        t = (d - 1)\n        return t\n\n    def make_error_in_code(self, codeword, error_count):\n        \"\"\"\n        Вносит ошибки в кодовое слово в указанные позиции.\n        \"\"\"\n        error_vector = np.zeros_like(codeword)\n        error_positions = np.random.choice(len(codeword), error_count, replace=False)\n        for pos in error_positions:\n            error_vector[pos] = 1\n\n        return codeword + error_vector % 2, error_vector\n\n    def is_error_detected(self, H, codeword_with_error):\n        \"\"\"\n        Проверяет, обнаруживается ли ошибка в кодовом слове.\n        \"\"\"\n        return np.any(self.check_codeword(H, codeword_with_error) != 0)\n\n    def __repr__(self):\n        return f\"LinearCode(G=\\n{self.G})\"\n",
      "metadata": {
        "trusted": true
      },
      "outputs": [],
      "execution_count": 19
    },
    {
      "cell_type": "markdown",
      "source": "1.3.2 Задать n равное числу столбцов и k равное числу строк\nполученной матрицы (без учёта полностью нулевых строк).\n",
      "metadata": {}
    },
    {
      "cell_type": "code",
      "source": "G = np.array([\n        [1, 0, 1, 1, 0, 0, 0, 1, 0, 0, 1],\n        [0, 0, 0, 1, 1, 1, 0, 1, 0, 1, 0],\n        [0, 0, 0, 0, 1, 0, 0, 1, 0, 0, 1],\n        [0, 0, 0, 0, 0, 0, 1, 0, 0, 1, 0],\n        [0, 0, 0, 0, 0, 0, 0, 0, 1, 1, 1]])\n\nprint('G =\\n', G)\n\nn = G.shape[1]\n# Количество ненулевых строк k\nk = np.sum(np.any(G != 0, axis=1))\nprint(f\"n = {n},\\nk = {k}\")",
      "metadata": {
        "trusted": true
      },
      "outputs": [
        {
          "name": "stdout",
          "text": "G =\n [[1 0 1 1 0 0 0 1 0 0 1]\n [0 0 0 1 1 1 0 1 0 1 0]\n [0 0 0 0 1 0 0 1 0 0 1]\n [0 0 0 0 0 0 1 0 0 1 0]\n [0 0 0 0 0 0 0 0 1 1 1]]\nn = 11,\nk = 5\n",
          "output_type": "stream"
        }
      ],
      "execution_count": 20
    },
    {
      "cell_type": "markdown",
      "source": "1.3.3 Сформировать проверочную матрицу на основе порождающей. ",
      "metadata": {}
    },
    {
      "cell_type": "code",
      "source": "G_lc = LinearCode(G)\nprint('G* =\\n', G_lc.G)\n\nlead = G_lc.find_leading_columns()\nprint(f\"\\nВедущие столбцы: {lead}\")\n\nX = G_lc.reduce_matrix(lead)\nprint('\\nСокращённая матрица X =\\n', X)\n\nH = G_lc.compute_parity_check_matrix(lead, X)\nprint('\\nМатрица H =\\n', H)",
      "metadata": {
        "trusted": true
      },
      "outputs": [
        {
          "name": "stdout",
          "text": "G* =\n [[1 0 1 0 0 1 0 1 0 1 0]\n [0 0 0 1 0 1 0 0 0 1 1]\n [0 0 0 0 1 0 0 1 0 0 1]\n [0 0 0 0 0 0 1 0 0 1 0]\n [0 0 0 0 0 0 0 0 1 1 1]]\n\nВедущие столбцы: [0, 3, 4, 6, 8]\n\nСокращённая матрица X =\n [[0 1 1 1 1 0]\n [0 0 1 0 1 1]\n [0 0 0 1 0 1]\n [0 0 0 0 1 0]\n [0 0 0 0 1 1]]\n\nМатрица H =\n [[0 1 1 1 1 0]\n [1 0 0 0 0 0]\n [0 1 0 0 0 0]\n [0 0 1 0 1 1]\n [0 0 0 1 0 1]\n [0 0 1 0 0 0]\n [0 0 0 0 1 0]\n [0 0 0 1 0 0]\n [0 0 0 0 1 1]\n [0 0 0 0 1 0]\n [0 0 0 0 0 1]]\n",
          "output_type": "stream"
        }
      ],
      "execution_count": 21
    },
    {
      "cell_type": "markdown",
      "source": "1.4. Сформировать все кодовые слова длины n двумя способами.\n",
      "metadata": {}
    },
    {
      "cell_type": "code",
      "source": "# Генерация кодовых слов\ncodewords_1 = G_lc.generate_codewords_1()\nprint(\"Кодовые слова из порождающего множества:\")\nprint(codewords_1)\n\ncodewords_2 = G_lc.generate_codewords_2()\nprint(\"Кодовые слова из двоичных слов:\")\nprint(codewords_2)\n\n# Проверка на совпадение\nassert set(map(tuple, codewords_1)) == set(map(tuple, codewords_2)), \"Кодовые слова не совпадают\"\n\n# Проверяем, что кодовые слова при умножении на H дают нулевые вектора\nfor codeword in codewords_1:\n    assert np.all(G_lc.check_codeword(H, codeword) == 0), \"Кодовое слово не дает нулевой вектор при умножении на H\"\n\nprint(\"\\nВсе проверки пройдены успешно!\")",
      "metadata": {
        "trusted": true
      },
      "outputs": [
        {
          "name": "stdout",
          "text": "Кодовые слова из порождающего множества:\n[[0 0 0 0 1 0 1 1 1 0 0]\n [1 0 1 0 1 1 1 0 1 1 0]\n [1 0 1 0 0 1 1 1 0 0 0]\n [1 0 1 1 0 0 0 1 0 0 1]\n [1 0 1 1 1 0 1 0 0 1 0]\n [0 0 0 0 0 0 1 0 0 1 0]\n [0 0 0 1 0 1 1 0 1 1 0]\n [0 0 0 0 1 0 1 1 0 1 1]\n [0 0 0 1 0 1 0 0 0 1 1]\n [0 0 0 1 0 1 0 0 1 0 0]\n [1 0 1 0 1 1 0 0 1 0 0]\n [0 0 0 0 1 0 0 1 1 1 0]\n [0 0 0 0 1 0 0 1 0 0 1]\n [0 0 0 0 0 0 1 0 1 0 1]\n [1 0 1 0 1 1 1 0 0 0 1]\n [1 0 1 1 0 0 1 1 1 0 0]\n [1 0 1 1 0 0 0 1 1 1 0]\n [1 0 1 1 1 0 0 0 1 1 1]\n [0 0 0 1 1 1 0 1 1 0 1]\n [0 0 0 0 0 0 0 0 1 1 1]\n [1 0 1 0 0 1 0 1 0 1 0]\n [1 0 1 0 1 1 0 0 0 1 1]\n [1 0 1 1 1 0 0 0 0 0 0]\n [1 0 1 1 0 0 1 1 0 1 1]\n [0 0 0 0 0 0 0 0 0 0 0]\n [1 0 1 1 1 0 1 0 1 0 1]\n [0 0 0 1 0 1 1 0 0 0 1]\n [1 0 1 0 0 1 0 1 1 0 1]\n [1 0 1 0 0 1 1 1 1 1 1]\n [0 0 0 1 1 1 0 1 0 1 0]\n [0 0 0 1 1 1 1 1 1 1 1]\n [0 0 0 1 1 1 1 1 0 0 0]]\nКодовые слова из двоичных слов:\n[[0 0 0 0 0 0 0 0 0 0 0]\n [0 0 0 0 0 0 0 0 1 1 1]\n [0 0 0 0 0 0 1 0 0 1 0]\n [0 0 0 0 0 0 1 0 1 0 1]\n [0 0 0 0 1 0 0 1 0 0 1]\n [0 0 0 0 1 0 0 1 1 1 0]\n [0 0 0 0 1 0 1 1 0 1 1]\n [0 0 0 0 1 0 1 1 1 0 0]\n [0 0 0 1 0 1 0 0 0 1 1]\n [0 0 0 1 0 1 0 0 1 0 0]\n [0 0 0 1 0 1 1 0 0 0 1]\n [0 0 0 1 0 1 1 0 1 1 0]\n [0 0 0 1 1 1 0 1 0 1 0]\n [0 0 0 1 1 1 0 1 1 0 1]\n [0 0 0 1 1 1 1 1 0 0 0]\n [0 0 0 1 1 1 1 1 1 1 1]\n [1 0 1 0 0 1 0 1 0 1 0]\n [1 0 1 0 0 1 0 1 1 0 1]\n [1 0 1 0 0 1 1 1 0 0 0]\n [1 0 1 0 0 1 1 1 1 1 1]\n [1 0 1 0 1 1 0 0 0 1 1]\n [1 0 1 0 1 1 0 0 1 0 0]\n [1 0 1 0 1 1 1 0 0 0 1]\n [1 0 1 0 1 1 1 0 1 1 0]\n [1 0 1 1 0 0 0 1 0 0 1]\n [1 0 1 1 0 0 0 1 1 1 0]\n [1 0 1 1 0 0 1 1 0 1 1]\n [1 0 1 1 0 0 1 1 1 0 0]\n [1 0 1 1 1 0 0 0 0 0 0]\n [1 0 1 1 1 0 0 0 1 1 1]\n [1 0 1 1 1 0 1 0 0 1 0]\n [1 0 1 1 1 0 1 0 1 0 1]]\n\nВсе проверки пройдены успешно!\n",
          "output_type": "stream"
        }
      ],
      "execution_count": 24
    },
    {
      "cell_type": "markdown",
      "source": "1.4 Вычислить кодовое расстояние получившегося кода. ",
      "metadata": {}
    },
    {
      "cell_type": "code",
      "source": "d = G_lc.compute_distance()\nt = G_lc.compute_t(d)\nprint(f\"Кодовое расстояние d = {d}\\nКратность обнаруживаемой ошибки t = {t}\")",
      "metadata": {
        "trusted": true
      },
      "outputs": [
        {
          "name": "stdout",
          "text": "Кодовое расстояние d = 2\nКратность обнаруживаемой ошибки t = 1\n",
          "output_type": "stream"
        }
      ],
      "execution_count": 27
    },
    {
      "cell_type": "markdown",
      "source": "1.4.1 Внести в кодовое слово ошибку кратности не более t, умножить\nполученное слово на H, убедиться в обнаружении ошибки. ",
      "metadata": {}
    },
    {
      "cell_type": "code",
      "source": "print(\"Ошибка кратности не более t\")\nv = codewords_1[0]\nprint(f\"\\nv = {v}\")\ne1_codeword, e1_vector = G_lc.make_error_in_code(v, t)\nprint(f\"e1 = {e1_vector}\")\nprint(f\"v + e1 = {e1_codeword}\")\nprint(f\"(v + e1) @ H = {G_lc.check_codeword(H, e1_codeword)} – error\")",
      "metadata": {
        "trusted": true
      },
      "outputs": [
        {
          "name": "stdout",
          "text": "Ошибка кратности не более t\n\nv = [0 0 0 0 1 0 1 1 1 0 0]\ne1 = [0 0 1 0 0 0 0 0 0 0 0]\nv + e1 = [0 0 1 0 1 0 1 1 1 0 0]\n(v + e1) @ H = [[0 1 0 0 0 0]] – error\n",
          "output_type": "stream"
        }
      ],
      "execution_count": 29
    },
    {
      "cell_type": "markdown",
      "source": "1.4.2 Найти для некоторого кодового слова ошибку кратности t+1\nтакую, что при умножении на H ошибка не может быть обнаружена.",
      "metadata": {}
    },
    {
      "cell_type": "code",
      "source": "print(\"Ошибка кратности t+1\")\nv = codewords_1[1]\nprint(f\"\\nv = {v}\")\ne2_codeword, e2_vector = G_lc.make_error_in_code(v, t + 1)\nprint(f\"e2 = {e2_vector}\")\nprint(f\"v + e2 = {e2_codeword}\")\nprint(f\"(v + e2) @ H = {G_lc.check_codeword(H, e2_codeword)} – no error\")",
      "metadata": {
        "trusted": true
      },
      "outputs": [
        {
          "name": "stdout",
          "text": "Ошибка кратности t+1\n\nv = [1 0 1 0 1 1 1 0 1 1 0]\ne2 = [0 0 0 1 0 0 0 1 0 0 0]\nv + e2 = [1 0 1 1 1 1 1 1 1 1 0]\n(v + e2) @ H = [[0 0 1 1 1 1]] – no error\n",
          "output_type": "stream"
        }
      ],
      "execution_count": 30
    },
    {
      "cell_type": "code",
      "source": "",
      "metadata": {
        "trusted": true
      },
      "outputs": [],
      "execution_count": null
    }
  ]
}