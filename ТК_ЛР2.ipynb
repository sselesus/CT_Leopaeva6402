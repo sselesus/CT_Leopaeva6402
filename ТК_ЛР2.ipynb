{
 "cells": [
  {
   "metadata": {},
   "cell_type": "markdown",
   "source": "Выполнила Леопаева Л.А., 6402-010302D",
   "id": "b1ad15c4a71a55b0"
  },
  {
   "metadata": {},
   "cell_type": "markdown",
   "source": "Лабораторная работа 2",
   "id": "ae72129acf5e56df"
  },
  {
   "cell_type": "code",
   "id": "initial_id",
   "metadata": {
    "collapsed": true,
    "ExecuteTime": {
     "end_time": "2024-12-01T17:13:45.218791Z",
     "start_time": "2024-12-01T17:13:45.109049Z"
    }
   },
   "source": [
    "import numpy as np\n",
    "from itertools import combinations"
   ],
   "outputs": [],
   "execution_count": 1
  },
  {
   "metadata": {
    "ExecuteTime": {
     "end_time": "2024-12-01T17:13:45.248408Z",
     "start_time": "2024-12-01T17:13:45.243815Z"
    }
   },
   "cell_type": "code",
   "source": [
    "# Начальные данные\n",
    "matrix_x1 = np.array([[1, 1, 1],\n",
    "                      [1, 1, 0],\n",
    "                      [1, 0, 1],\n",
    "                      [0, 1, 1]])\n",
    "\n",
    "matrix_x2 = np.array([[0, 1, 1, 1, 1, 0, 0],\n",
    "                      [1, 1, 0, 1, 1, 1, 1],\n",
    "                      [0, 0, 1, 1, 0, 1, 1],\n",
    "                      [1, 0, 1, 0, 1, 1, 0]])"
   ],
   "id": "f60459013d77879c",
   "outputs": [],
   "execution_count": 2
  },
  {
   "metadata": {},
   "cell_type": "markdown",
   "source": [
    "\n",
    "Часть 1"
   ],
   "id": "5f06c53e192af359"
  },
  {
   "metadata": {},
   "cell_type": "markdown",
   "source": "2.1. Сформировать порождающую матрицу линейного кода (7, 4, 3)",
   "id": "97716d151290f8d4"
  },
  {
   "metadata": {
    "ExecuteTime": {
     "end_time": "2024-12-01T17:13:45.328297Z",
     "start_time": "2024-12-01T17:13:45.324442Z"
    }
   },
   "cell_type": "code",
   "source": [
    "def generate_G(x, k):\n",
    "    identity_k = np.eye(k, dtype=int)\n",
    "    return np.hstack((identity_k, x))"
   ],
   "id": "1607cdf83e49b6d6",
   "outputs": [],
   "execution_count": 3
  },
  {
   "metadata": {},
   "cell_type": "markdown",
   "source": "2.2 Сформировать проверочную матрицу на основе порождающей",
   "id": "a5e1d205790fe647"
  },
  {
   "metadata": {
    "ExecuteTime": {
     "end_time": "2024-12-01T17:13:45.340107Z",
     "start_time": "2024-12-01T17:13:45.336671Z"
    }
   },
   "cell_type": "code",
   "source": [
    "def generate_H(x, n, k):\n",
    "    identity_remainder = np.eye(n - k, dtype=int)\n",
    "    return np.vstack((x, identity_remainder))"
   ],
   "id": "a355eb83b63bb454",
   "outputs": [],
   "execution_count": 4
  },
  {
   "metadata": {},
   "cell_type": "markdown",
   "source": [
    "2.3 Сформировать таблицу синдромов для всех однократных\n",
    "ошибок"
   ],
   "id": "6383d9f2e35d0b83"
  },
  {
   "metadata": {
    "ExecuteTime": {
     "end_time": "2024-12-01T17:13:45.350872Z",
     "start_time": "2024-12-01T17:13:45.347406Z"
    }
   },
   "cell_type": "code",
   "source": [
    "def syndromes_single_error(H):\n",
    "    syndromes = {}\n",
    "    for index, row in enumerate(H):\n",
    "        syndromes[str(row)] = [index]\n",
    "    return syndromes"
   ],
   "id": "285f750038c2f3d1",
   "outputs": [],
   "execution_count": 5
  },
  {
   "metadata": {},
   "cell_type": "markdown",
   "source": "2.4 Исправить одну ошибку с использованием таблицы синдромов",
   "id": "513c9efd8cde8afe"
  },
  {
   "metadata": {
    "ExecuteTime": {
     "end_time": "2024-12-01T17:13:45.362539Z",
     "start_time": "2024-12-01T17:13:45.358610Z"
    }
   },
   "cell_type": "code",
   "source": [
    "def fix_one_error(syndromes, syndrome, word):\n",
    "    position = syndromes.get(str(syndrome))\n",
    "    if position is not None:\n",
    "        word[position] ^= 1\n",
    "    return word"
   ],
   "id": "4ea791c5b6b834cf",
   "outputs": [],
   "execution_count": 6
  },
  {
   "metadata": {},
   "cell_type": "markdown",
   "source": [
    "Сформировать кодовое слово длины n из слова длины k. Внести однократную\n",
    "(двукратную) ошибку в сформированное слово. Вычислить синдром,\n",
    "исправить ошибку с использованием таблицы синдромов. Убедиться\n",
    "в правильности полученного слова. (Убедиться, что полученное \n",
    "слово отличается от отправленного.)"
   ],
   "id": "14b81e29917ecd"
  },
  {
   "metadata": {
    "ExecuteTime": {
     "end_time": "2024-12-01T17:54:05.789176Z",
     "start_time": "2024-12-01T17:54:05.780915Z"
    }
   },
   "cell_type": "code",
   "source": [
    "def part_one():\n",
    "    print(\"\\nЧасть 1\")\n",
    "    n, k = 7, 4\n",
    "    G = generate_G(matrix_x1, k)\n",
    "    print(f\"Порождающая матрица G:\\n{G}\")\n",
    "    H = generate_H(matrix_x1, n, k)\n",
    "    print(f\"Проверочная матрица H:\\n{H}\")\n",
    "\n",
    "    syndromes = syndromes_single_error(H)\n",
    "    print(f\"Таблица синдромов для однократных ошибок:\\n{syndromes}\")\n",
    "\n",
    "    # 2.4\n",
    "    print(\"\\n\\nПункт 2.4: слово с одной ошибкой\")\n",
    "    original_word = np.array([1, 0, 1, 0])\n",
    "    encoded_word = original_word @ G % 2\n",
    "    print(f\"\\nИсходное слово: {original_word}\")\n",
    "    print(f\"Закодированное слово: {encoded_word}\")\n",
    "\n",
    "    error_word = encoded_word.copy()\n",
    "    error_word[5] ^= 1  # Добавляем одну ошибку\n",
    "    syndrome = error_word @ H % 2\n",
    "    print(f\"Слово с ошибкой: {error_word}\\nСиндром: {syndrome}\")\n",
    "\n",
    "    corrected_word = fix_one_error(syndromes, syndrome, error_word)\n",
    "    print(f\"Исправленное слово: {corrected_word}\")\n",
    "    \n",
    "    is_correct = corrected_word @ H % 2\n",
    "    print(f\"Проверка правильности полученного слова умножением на матрицу H: {is_correct}\")\n",
    "    \n",
    "    # 2.5\n",
    "    print(\"\\n\\nПункт 2.5: слово с двумя ошибками\")\n",
    "    original_word_2 = np.array([0, 1, 0, 1])\n",
    "    encoded_word_2 = original_word_2 @ G % 2\n",
    "    print(f\"\\nИсходное слово: {original_word_2}\")\n",
    "    print(f\"Закодированное слово: {encoded_word_2}\")\n",
    "\n",
    "    error_word_2 = encoded_word_2.copy()\n",
    "    error_word_2[[2, 5]] ^= 1  # Добавляем две ошибки\n",
    "    syndrome_2 = error_word_2 @ H % 2\n",
    "    print(f\"Слово с двумя ошибками: {error_word_2}\\nСиндром: {syndrome_2}\")\n",
    "\n",
    "    corrected_word_2 = fix_one_error(syndromes, syndrome_2, error_word_2)\n",
    "    print(f\"Исправленное слово: {corrected_word_2}\")\n",
    "    \n",
    "    is_correct_2 = corrected_word_2 @ H % 2\n",
    "    print(f\"Проверка правильности полученного слова умножением на матрицу H: {is_correct_2}\")\n",
    "    \n",
    "    print(f\"Полученное слово отличается от отправленного: {encoded_word_2} -> {corrected_word_2}\")"
   ],
   "id": "bcb6d6b6e9ebbb7d",
   "outputs": [],
   "execution_count": 25
  },
  {
   "metadata": {
    "ExecuteTime": {
     "end_time": "2024-12-01T17:54:07.923538Z",
     "start_time": "2024-12-01T17:54:07.917357Z"
    }
   },
   "cell_type": "code",
   "source": "part_one()",
   "id": "7af6c8321011c2bf",
   "outputs": [
    {
     "name": "stdout",
     "output_type": "stream",
     "text": [
      "\n",
      "Часть 1\n",
      "Порождающая матрица G:\n",
      "[[1 0 0 0 1 1 1]\n",
      " [0 1 0 0 1 1 0]\n",
      " [0 0 1 0 1 0 1]\n",
      " [0 0 0 1 0 1 1]]\n",
      "Проверочная матрица H:\n",
      "[[1 1 1]\n",
      " [1 1 0]\n",
      " [1 0 1]\n",
      " [0 1 1]\n",
      " [1 0 0]\n",
      " [0 1 0]\n",
      " [0 0 1]]\n",
      "Таблица синдромов для однократных ошибок:\n",
      "{'[1 1 1]': [0], '[1 1 0]': [1], '[1 0 1]': [2], '[0 1 1]': [3], '[1 0 0]': [4], '[0 1 0]': [5], '[0 0 1]': [6]}\n",
      "\n",
      "\n",
      "Пункт 2.4: слово с одной ошибкой\n",
      "\n",
      "Исходное слово: [1 0 1 0]\n",
      "Закодированное слово: [1 0 1 0 0 1 0]\n",
      "Слово с ошибкой: [1 0 1 0 0 0 0]\n",
      "Синдром: [0 1 0]\n",
      "Исправленное слово: [1 0 1 0 0 1 0]\n",
      "Проверка правильности полученного слова умножением на матрицу H: [0 0 0]\n",
      "\n",
      "\n",
      "Пункт 2.5: слово с двумя ошибками\n",
      "\n",
      "Исходное слово: [0 1 0 1]\n",
      "Закодированное слово: [0 1 0 1 1 0 1]\n",
      "Слово с двумя ошибками: [0 1 1 1 1 1 1]\n",
      "Синдром: [1 1 1]\n",
      "Исправленное слово: [1 1 1 1 1 1 1]\n",
      "Проверка правильности полученного слова умножением на матрицу H: [0 0 0]\n",
      "Полученное слово отличается от отправленного: [0 1 0 1 1 0 1] -> [1 1 1 1 1 1 1]\n"
     ]
    }
   ],
   "execution_count": 26
  },
  {
   "metadata": {},
   "cell_type": "markdown",
   "source": "Часть 2",
   "id": "e8f7ce2d59c7936f"
  },
  {
   "metadata": {
    "ExecuteTime": {
     "end_time": "2024-12-01T18:04:59.305729Z",
     "start_time": "2024-12-01T18:04:59.300709Z"
    }
   },
   "cell_type": "code",
   "source": [
    "def syndromes_double_error(H, n):\n",
    "    syndromes = {}\n",
    "    identity_n = np.eye(n, dtype=int)\n",
    "    for idx, row in enumerate(H):\n",
    "        syndromes[str(row)] = [idx]\n",
    "    for pair in combinations(range(n), 2):\n",
    "        error_pattern = (identity_n[pair[0]] + identity_n[pair[1]]) % 2\n",
    "        syndrome = error_pattern @ H % 2\n",
    "        syndromes[str(syndrome)] = pair\n",
    "    return syndromes"
   ],
   "id": "3ee9cddda5cadc27",
   "outputs": [],
   "execution_count": 27
  },
  {
   "metadata": {
    "ExecuteTime": {
     "end_time": "2024-12-01T18:05:00.684843Z",
     "start_time": "2024-12-01T18:05:00.680820Z"
    }
   },
   "cell_type": "code",
   "source": [
    "def fix_two_errors(syndromes, syndrome, word):\n",
    "    error_positions = syndromes.get(str(syndrome), [])\n",
    "    for pos in error_positions:\n",
    "        word[pos] ^= 1\n",
    "    return word"
   ],
   "id": "f75d60af296d1baf",
   "outputs": [],
   "execution_count": 28
  },
  {
   "metadata": {},
   "cell_type": "markdown",
   "source": [
    "Сформировать кодовое слово длины n из слова длины k. Внести\n",
    "однократную (двукратную/трёхкратную) ошибку в сформированное слово. Вычислить синдром,\n",
    "исправить ошибку с использованием таблицы синдромов. Убедиться\n",
    "в правильности полученного слова (/Убедиться, что полученное слово отличается от отправленного)."
   ],
   "id": "e9417a7d731419c6"
  },
  {
   "metadata": {
    "ExecuteTime": {
     "end_time": "2024-12-01T18:07:42.301222Z",
     "start_time": "2024-12-01T18:07:42.292006Z"
    }
   },
   "cell_type": "code",
   "source": [
    "def part_two():\n",
    "    print(\"\\nЧасть 2\")\n",
    "    # 2.6. Сформировать порождающую матрицу линейного кода (n, k, 5)\n",
    "    n, k = 11, 4\n",
    "    G = generate_G(matrix_x2, k)\n",
    "    print(f\"Порождающая матрица G:\\n{G}\")\n",
    "    # 2.7 Сформировать проверочную матрицу на основе порождающей\n",
    "    H = generate_H(matrix_x2, n, k)\n",
    "    print(f\"Проверочная матрица H:\\n{H}\")\n",
    "\n",
    "    # 2.8 Сформировать таблицу синдромов для всех однократных и двукратных ошибок\n",
    "    syndromes = syndromes_double_error(H, n)\n",
    "    print(f\"Таблица синдромов для однократных и двукратных ошибок:\\n{syndromes}\")\n",
    "\n",
    "    # 2.9\n",
    "    print(\"\\n\\nПункт 2.9: слово с одной ошибкой\")\n",
    "    original_word = np.array([1, 0, 1, 0])\n",
    "    encoded_word = original_word @ G % 2\n",
    "    print(f\"\\nИсходное слово: {original_word}\")\n",
    "    print(f\"Закодированное слово: {encoded_word}\")\n",
    "\n",
    "    error_word = encoded_word.copy()\n",
    "    error_word[5] ^= 1  # Добавляем одну ошибку\n",
    "    syndrome = error_word @ H % 2\n",
    "    print(f\"Слово с ошибками: {error_word}\\nСиндром: {syndrome}\")\n",
    "\n",
    "    corrected_word = fix_two_errors(syndromes, syndrome, error_word)\n",
    "    print(f\"Исправленное слово: {corrected_word}\")\n",
    "    \n",
    "    # 2.10\n",
    "    print(\"\\n\\nПункт 2.10: слово с двумя ошибками\")\n",
    "    original_word = np.array([1, 0, 0, 1])\n",
    "    encoded_word = original_word @ G % 2\n",
    "    print(f\"\\nИсходное слово: {original_word}\")\n",
    "    print(f\"Закодированное слово: {encoded_word}\")\n",
    "\n",
    "    error_word = encoded_word.copy()\n",
    "    error_word[[2, 5]] ^= 1  # Добавляем две ошибки\n",
    "    syndrome = error_word @ H % 2\n",
    "    print(f\"Слово с ошибками: {error_word}\\nСиндром: {syndrome}\")\n",
    "\n",
    "    corrected_word = fix_two_errors(syndromes, syndrome, error_word)\n",
    "    print(f\"Исправленное слово: {corrected_word}\")\n",
    "    \n",
    "    # 2.11\n",
    "    print(\"\\n\\nПункт 2.11: слово с тремя ошибками\")\n",
    "    original_word = np.array([1, 1, 1, 0])\n",
    "    encoded_word = original_word @ G % 2\n",
    "    print(f\"\\nИсходное слово: {original_word}\")\n",
    "    print(f\"Закодированное слово: {encoded_word}\")\n",
    "\n",
    "    error_word = encoded_word.copy()\n",
    "    error_word[[2, 5, 8]] ^= 1  # Добавляем две ошибки\n",
    "    syndrome = error_word @ H % 2\n",
    "    print(f\"Слово с ошибками: {error_word}\\nСиндром: {syndrome}\")\n",
    "\n",
    "    corrected_word = fix_two_errors(syndromes, syndrome, error_word)\n",
    "    print(f\"Исправленное слово: {corrected_word}\")\n",
    "    \n",
    "    print(f\"Полученное слово отличается от отправленного: {encoded_word} -> {corrected_word}\")"
   ],
   "id": "1b8319a5153fb01c",
   "outputs": [],
   "execution_count": 35
  },
  {
   "metadata": {
    "ExecuteTime": {
     "end_time": "2024-12-01T18:07:44.490218Z",
     "start_time": "2024-12-01T18:07:44.481669Z"
    }
   },
   "cell_type": "code",
   "source": "part_two()",
   "id": "4efee2808e648793",
   "outputs": [
    {
     "name": "stdout",
     "output_type": "stream",
     "text": [
      "\n",
      "Часть 2\n",
      "Порождающая матрица G:\n",
      "[[1 0 0 0 0 1 1 1 1 0 0]\n",
      " [0 1 0 0 1 1 0 1 1 1 1]\n",
      " [0 0 1 0 0 0 1 1 0 1 1]\n",
      " [0 0 0 1 1 0 1 0 1 1 0]]\n",
      "Проверочная матрица H:\n",
      "[[0 1 1 1 1 0 0]\n",
      " [1 1 0 1 1 1 1]\n",
      " [0 0 1 1 0 1 1]\n",
      " [1 0 1 0 1 1 0]\n",
      " [1 0 0 0 0 0 0]\n",
      " [0 1 0 0 0 0 0]\n",
      " [0 0 1 0 0 0 0]\n",
      " [0 0 0 1 0 0 0]\n",
      " [0 0 0 0 1 0 0]\n",
      " [0 0 0 0 0 1 0]\n",
      " [0 0 0 0 0 0 1]]\n",
      "Таблица синдромов для однократных и двукратных ошибок:\n",
      "{'[0 1 1 1 1 0 0]': [0], '[1 1 0 1 1 1 1]': [1], '[0 0 1 1 0 1 1]': [2], '[1 0 1 0 1 1 0]': [3], '[1 0 0 0 0 0 0]': [4], '[0 1 0 0 0 0 0]': [5], '[0 0 1 0 0 0 0]': [6], '[0 0 0 1 0 0 0]': [7], '[0 0 0 0 1 0 0]': [8], '[0 0 0 0 0 1 0]': [9], '[0 0 0 0 0 0 1]': [10], '[1 0 1 0 0 1 1]': (0, 1), '[0 1 0 0 1 1 1]': (0, 2), '[1 1 0 1 0 1 0]': (0, 3), '[1 1 1 1 1 0 0]': (0, 4), '[0 0 1 1 1 0 0]': (0, 5), '[0 1 0 1 1 0 0]': (0, 6), '[0 1 1 0 1 0 0]': (0, 7), '[0 1 1 1 0 0 0]': (0, 8), '[0 1 1 1 1 1 0]': (0, 9), '[0 1 1 1 1 0 1]': (0, 10), '[1 1 1 0 1 0 0]': (1, 2), '[0 1 1 1 0 0 1]': (1, 3), '[0 1 0 1 1 1 1]': (1, 4), '[1 0 0 1 1 1 1]': (1, 5), '[1 1 1 1 1 1 1]': (1, 6), '[1 1 0 0 1 1 1]': (1, 7), '[1 1 0 1 0 1 1]': (1, 8), '[1 1 0 1 1 0 1]': (1, 9), '[1 1 0 1 1 1 0]': (1, 10), '[1 0 0 1 1 0 1]': (2, 3), '[1 0 1 1 0 1 1]': (2, 4), '[0 1 1 1 0 1 1]': (2, 5), '[0 0 0 1 0 1 1]': (2, 6), '[0 0 1 0 0 1 1]': (2, 7), '[0 0 1 1 1 1 1]': (2, 8), '[0 0 1 1 0 0 1]': (2, 9), '[0 0 1 1 0 1 0]': (2, 10), '[0 0 1 0 1 1 0]': (3, 4), '[1 1 1 0 1 1 0]': (3, 5), '[1 0 0 0 1 1 0]': (3, 6), '[1 0 1 1 1 1 0]': (3, 7), '[1 0 1 0 0 1 0]': (3, 8), '[1 0 1 0 1 0 0]': (3, 9), '[1 0 1 0 1 1 1]': (3, 10), '[1 1 0 0 0 0 0]': (4, 5), '[1 0 1 0 0 0 0]': (4, 6), '[1 0 0 1 0 0 0]': (4, 7), '[1 0 0 0 1 0 0]': (4, 8), '[1 0 0 0 0 1 0]': (4, 9), '[1 0 0 0 0 0 1]': (4, 10), '[0 1 1 0 0 0 0]': (5, 6), '[0 1 0 1 0 0 0]': (5, 7), '[0 1 0 0 1 0 0]': (5, 8), '[0 1 0 0 0 1 0]': (5, 9), '[0 1 0 0 0 0 1]': (5, 10), '[0 0 1 1 0 0 0]': (6, 7), '[0 0 1 0 1 0 0]': (6, 8), '[0 0 1 0 0 1 0]': (6, 9), '[0 0 1 0 0 0 1]': (6, 10), '[0 0 0 1 1 0 0]': (7, 8), '[0 0 0 1 0 1 0]': (7, 9), '[0 0 0 1 0 0 1]': (7, 10), '[0 0 0 0 1 1 0]': (8, 9), '[0 0 0 0 1 0 1]': (8, 10), '[0 0 0 0 0 1 1]': (9, 10)}\n",
      "\n",
      "\n",
      "Пункт 2.9: слово с одной ошибкой\n",
      "\n",
      "Исходное слово: [1 0 1 0]\n",
      "Закодированное слово: [1 0 1 0 0 1 0 0 1 1 1]\n",
      "Слово с ошибками: [1 0 1 0 0 0 0 0 1 1 1]\n",
      "Синдром: [0 1 0 0 0 0 0]\n",
      "Исправленное слово: [1 0 1 0 0 1 0 0 1 1 1]\n",
      "\n",
      "\n",
      "Пункт 2.10: слово с двумя ошибками\n",
      "\n",
      "Исходное слово: [1 0 0 1]\n",
      "Закодированное слово: [1 0 0 1 1 1 0 1 0 1 0]\n",
      "Слово с ошибками: [1 0 1 1 1 0 0 1 0 1 0]\n",
      "Синдром: [0 1 1 1 0 1 1]\n",
      "Исправленное слово: [1 0 0 1 1 1 0 1 0 1 0]\n",
      "\n",
      "\n",
      "Пункт 2.11: слово с тремя ошибками\n",
      "\n",
      "Исходное слово: [1 1 1 0]\n",
      "Закодированное слово: [1 1 1 0 1 0 0 1 0 0 0]\n",
      "Слово с ошибками: [1 1 0 0 1 1 0 1 1 0 0]\n",
      "Синдром: [0 1 1 1 1 1 1]\n",
      "Исправленное слово: [1 1 0 0 1 1 0 1 1 0 0]\n",
      "Полученное слово отличается от отправленного: [1 1 1 0 1 0 0 1 0 0 0] -> [1 1 0 0 1 1 0 1 1 0 0]\n"
     ]
    }
   ],
   "execution_count": 36
  }
 ],
 "metadata": {
  "kernelspec": {
   "display_name": "Python 3",
   "language": "python",
   "name": "python3"
  },
  "language_info": {
   "codemirror_mode": {
    "name": "ipython",
    "version": 2
   },
   "file_extension": ".py",
   "mimetype": "text/x-python",
   "name": "python",
   "nbconvert_exporter": "python",
   "pygments_lexer": "ipython2",
   "version": "2.7.6"
  }
 },
 "nbformat": 4,
 "nbformat_minor": 5
}
